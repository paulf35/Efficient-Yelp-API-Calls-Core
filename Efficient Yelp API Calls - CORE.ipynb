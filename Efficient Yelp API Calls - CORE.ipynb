{
 "cells": [
  {
   "cell_type": "markdown",
   "id": "d8da4013",
   "metadata": {},
   "source": [
    "# Efficient Yelp API Calls - CORE\n",
    "Author: Paul Foy"
   ]
  },
  {
   "cell_type": "markdown",
   "id": "f1a55a5a",
   "metadata": {},
   "source": [
    "## Imports and Installation"
   ]
  },
  {
   "cell_type": "code",
   "execution_count": 1,
   "id": "ea8d754a",
   "metadata": {},
   "outputs": [],
   "source": [
    "# Standard Imports\n",
    "import numpy as np\n",
    "import pandas as pd\n",
    "import matplotlib.pyplot as plt\n",
    "import seaborn as sns\n",
    "\n",
    "# Additional Imports\n",
    "# os - for saving and loading files\n",
    "# json - to work with json files\n",
    "# math - to round up results\n",
    "# time - to add a short pause to not overwhelm the server\n",
    "import os, json, math, time\n",
    "\n",
    "# to make yelpapi calls\n",
    "from yelpapi import YelpAPI\n",
    "\n",
    "# progress bar from tqdm_notebook\n",
    "from tqdm.notebook import tqdm_notebook"
   ]
  },
  {
   "cell_type": "code",
   "execution_count": 2,
   "id": "bc476376",
   "metadata": {},
   "outputs": [
    {
     "name": "stdout",
     "output_type": "stream",
     "text": [
      "Requirement already satisfied: yelpapi in c:\\users\\pafoy_gz6qkdd\\anaconda3\\envs\\dojo-env\\lib\\site-packages (2.5.0)\n",
      "Requirement already satisfied: requests in c:\\users\\pafoy_gz6qkdd\\anaconda3\\envs\\dojo-env\\lib\\site-packages (from yelpapi) (2.31.0)\n",
      "Requirement already satisfied: charset-normalizer<4,>=2 in c:\\users\\pafoy_gz6qkdd\\anaconda3\\envs\\dojo-env\\lib\\site-packages (from requests->yelpapi) (2.0.4)\n",
      "Requirement already satisfied: certifi>=2017.4.17 in c:\\users\\pafoy_gz6qkdd\\anaconda3\\envs\\dojo-env\\lib\\site-packages (from requests->yelpapi) (2022.9.24)\n",
      "Requirement already satisfied: urllib3<3,>=1.21.1 in c:\\users\\pafoy_gz6qkdd\\anaconda3\\envs\\dojo-env\\lib\\site-packages (from requests->yelpapi) (1.26.13)\n",
      "Requirement already satisfied: idna<4,>=2.5 in c:\\users\\pafoy_gz6qkdd\\anaconda3\\envs\\dojo-env\\lib\\site-packages (from requests->yelpapi) (3.4)\n",
      "Requirement already satisfied: tqdm in c:\\users\\pafoy_gz6qkdd\\anaconda3\\envs\\dojo-env\\lib\\site-packages (4.64.1)\n",
      "Requirement already satisfied: colorama in c:\\users\\pafoy_gz6qkdd\\anaconda3\\envs\\dojo-env\\lib\\site-packages (from tqdm) (0.4.5)\n"
     ]
    }
   ],
   "source": [
    "!pip install yelpapi\n",
    "!pip install tqdm"
   ]
  },
  {
   "cell_type": "code",
   "execution_count": 3,
   "id": "b1cecadd",
   "metadata": {},
   "outputs": [],
   "source": [
    "# Load API Credentials\n",
    "with open('/Users/pafoy_gz6qkdd/.secret/yelp_api.json') as f:   #use your path here!\n",
    "    login = json.load(f)\n",
    "    \n",
    "# Instantiate YelpAPI Variable\n",
    "yelp_api = YelpAPI(login['api-key'], timeout_s=5.0)"
   ]
  },
  {
   "cell_type": "markdown",
   "id": "144e08a5",
   "metadata": {},
   "source": [
    "## Set API location and term"
   ]
  },
  {
   "cell_type": "code",
   "execution_count": 31,
   "id": "3cd8df32",
   "metadata": {},
   "outputs": [],
   "source": [
    "# set our API call parameters \n",
    "LOCATION = 'NY,NY'\n",
    "TERM = 'ITALIAN'"
   ]
  },
  {
   "cell_type": "markdown",
   "id": "539fd0f6",
   "metadata": {},
   "source": [
    "## Create JSON File"
   ]
  },
  {
   "cell_type": "code",
   "execution_count": 32,
   "id": "57b4ba89",
   "metadata": {},
   "outputs": [
    {
     "data": {
      "text/plain": [
       "'Data/results_in_progress_NY_Italian.json'"
      ]
     },
     "execution_count": 32,
     "metadata": {},
     "output_type": "execute_result"
    }
   ],
   "source": [
    "# Specifying JSON_FILE filename (can include a folder)\n",
    "# include the search terms in the filename\n",
    "JSON_FILE = \"Data/results_in_progress_NY_Italian.json\"\n",
    "JSON_FILE"
   ]
  },
  {
   "cell_type": "code",
   "execution_count": 34,
   "id": "3fe0585f",
   "metadata": {},
   "outputs": [
    {
     "name": "stdout",
     "output_type": "stream",
     "text": [
      "[i] Data/results_in_progress_NY_Italian.json already exists.\n"
     ]
    }
   ],
   "source": [
    "## Check if JSON_FILE exists\n",
    "file_exists = os.path.isfile(JSON_FILE)\n",
    "## If it does not exist: \n",
    "if file_exists == False:\n",
    "    \n",
    "    ## CREATE ANY NEEDED FOLDERS\n",
    "    # Get the Folder Name only\n",
    "    folder = os.path.dirname(JSON_FILE)\n",
    "    ## If JSON_FILE included a folder:\n",
    "    if len(folder)>0:\n",
    "        # create the folder\n",
    "        os.makedirs(folder,exist_ok=True)\n",
    "        \n",
    "        \n",
    "    ## INFORM USER AND SAVE EMPTY LIST\n",
    "    print(f'[i] {JSON_FILE} not found. Saving empty list to file.')\n",
    "    \n",
    "    \n",
    "    # save an empty list\n",
    "    with open(JSON_FILE,'w') as f:\n",
    "        json.dump([],f)  \n",
    "# If it exists, inform user\n",
    "else:\n",
    "    print(f\"[i] {JSON_FILE} already exists.\")"
   ]
  },
  {
   "cell_type": "code",
   "execution_count": 35,
   "id": "c2c496ca",
   "metadata": {},
   "outputs": [
    {
     "name": "stdout",
     "output_type": "stream",
     "text": [
      "- 0 previous results found.\n"
     ]
    }
   ],
   "source": [
    "## Load previous results and use len of results for offset\n",
    "with open(JSON_FILE,'r') as f:\n",
    "    previous_results = json.load(f)\n",
    "    \n",
    "## set offset based on previous results\n",
    "n_results = len(previous_results)\n",
    "print(f'- {n_results} previous results found.')"
   ]
  },
  {
   "cell_type": "code",
   "execution_count": 36,
   "id": "d7d0a86a",
   "metadata": {},
   "outputs": [
    {
     "data": {
      "text/plain": [
       "dict_keys(['businesses', 'total', 'region'])"
      ]
     },
     "execution_count": 36,
     "metadata": {},
     "output_type": "execute_result"
    }
   ],
   "source": [
    "# use our yelp_api variable's search_query method to perform our API call\n",
    "results = yelp_api.search_query(location=LOCATION,\n",
    "                                term=TERM,\n",
    "                               offset=n_results)\n",
    "results.keys()"
   ]
  },
  {
   "cell_type": "code",
   "execution_count": 37,
   "id": "de856cf7",
   "metadata": {},
   "outputs": [
    {
     "data": {
      "text/plain": [
       "8500"
      ]
     },
     "execution_count": 37,
     "metadata": {},
     "output_type": "execute_result"
    }
   ],
   "source": [
    "## How many results total?\n",
    "total_results = results['total']\n",
    "total_results"
   ]
  },
  {
   "cell_type": "code",
   "execution_count": 38,
   "id": "7cad6365",
   "metadata": {},
   "outputs": [
    {
     "data": {
      "text/plain": [
       "20"
      ]
     },
     "execution_count": 38,
     "metadata": {},
     "output_type": "execute_result"
    }
   ],
   "source": [
    "## How many did we get the details for?\n",
    "results_per_page = len(results['businesses'])\n",
    "results_per_page"
   ]
  },
  {
   "cell_type": "code",
   "execution_count": 39,
   "id": "26b78aae",
   "metadata": {},
   "outputs": [
    {
     "data": {
      "text/plain": [
       "425"
      ]
     },
     "execution_count": 39,
     "metadata": {},
     "output_type": "execute_result"
    }
   ],
   "source": [
    "# Import additional packages for controlling our loop\n",
    "import time, math\n",
    "# Use math.ceil to round up for the total number of pages of results.\n",
    "n_pages = math.ceil((results['total']-n_results)/ results_per_page)\n",
    "n_pages"
   ]
  },
  {
   "cell_type": "code",
   "execution_count": 40,
   "id": "9bc3ca66",
   "metadata": {},
   "outputs": [],
   "source": [
    "# join new results with old list with extend and save to file\n",
    "previous_results.extend(results['businesses'])  \n",
    "with open(JSON_FILE,'w') as f:\n",
    "     json.dump(previous_results,f)"
   ]
  },
  {
   "cell_type": "code",
   "execution_count": 41,
   "id": "5b2877f8",
   "metadata": {},
   "outputs": [
    {
     "data": {
      "application/vnd.jupyter.widget-view+json": {
       "model_id": "b2cbe33d1dc24a03b8923f307daf0f1b",
       "version_major": 2,
       "version_minor": 0
      },
      "text/plain": [
       "  0%|          | 0/425 [00:00<?, ?it/s]"
      ]
     },
     "metadata": {},
     "output_type": "display_data"
    }
   ],
   "source": [
    "from tqdm.notebook import tqdm_notebook\n",
    "import time\n",
    "for i in tqdm_notebook(range(n_pages)):\n",
    "    # adds 200 ms pause\n",
    "    time.sleep(.2) "
   ]
  },
  {
   "cell_type": "code",
   "execution_count": 43,
   "id": "f956f590",
   "metadata": {},
   "outputs": [],
   "source": [
    "# Define function to check if file exists\n",
    "def create_json_file(JSON_FILE,  delete_if_exists=False):\n",
    "    \n",
    "    ## Check if JSON_FILE exists\n",
    "    file_exists = os.path.isfile(JSON_FILE)\n",
    "    \n",
    "    ## If it DOES exist:\n",
    "    if file_exists == True:\n",
    "        \n",
    "        ## Check if user wants to delete if exists\n",
    "        if delete_if_exists==True:\n",
    "            \n",
    "            print(f\"[!] {JSON_FILE} already exists. Deleting previous file...\")\n",
    "            ## delete file and confirm it no longer exits.\n",
    "            os.remove(JSON_FILE)\n",
    "            ## Recursive call to function after old file deleted\n",
    "            create_json_file(JSON_FILE,delete_if_exists=False)\n",
    "        else:\n",
    "            print(f\"[i] {JSON_FILE} already exists.\")            \n",
    "            \n",
    "            \n",
    "    ## If it does NOT exist:\n",
    "    else:\n",
    "        \n",
    "        ## INFORM USER AND SAVE EMPTY LIST\n",
    "        print(f\"[i] {JSON_FILE} not found. Saving empty list to new file.\")\n",
    "        \n",
    "        ## CREATE ANY NEEDED FOLDERS\n",
    "        # Get the Folder Name only\n",
    "        folder = os.path.dirname(JSON_FILE)\n",
    "        \n",
    "        ## If JSON_FILE included a folder:\n",
    "        if len(folder)>0:\n",
    "            # create the folder\n",
    "            os.makedirs(folder,exist_ok=True)\n",
    "        ## Save empty list to start the json file\n",
    "        with open(JSON_FILE,'w') as f:\n",
    "            json.dump([],f)"
   ]
  },
  {
   "cell_type": "code",
   "execution_count": 44,
   "id": "b0770f49",
   "metadata": {},
   "outputs": [
    {
     "name": "stdout",
     "output_type": "stream",
     "text": [
      "[i] Data/results_in_progress_NY_Italian.json not found. Saving empty list to new file.\n",
      "- 0 previous results found.\n"
     ]
    },
    {
     "data": {
      "text/plain": [
       "425"
      ]
     },
     "execution_count": 44,
     "metadata": {},
     "output_type": "execute_result"
    }
   ],
   "source": [
    "## Create a new empty json file (exist the previous if it exists)\n",
    "create_json_file(JSON_FILE, delete_if_exists=True)\n",
    "## Load previous results and use len of results for offset\n",
    "with open(JSON_FILE,'r') as f:\n",
    "    previous_results = json.load(f)\n",
    "    \n",
    "## set offset based on previous results\n",
    "n_results = len(previous_results)\n",
    "print(f'- {n_results} previous results found.')\n",
    "# use our yelp_api variable's search_query method to perform our API call\n",
    "results = yelp_api.search_query(location=LOCATION,\n",
    "                                term=TERM,\n",
    "                               offset=n_results)\n",
    "## How many results total?\n",
    "total_results = results['total']\n",
    "## How many did we get the details for?\n",
    "results_per_page = len(results['businesses'])\n",
    "# Use math.ceil to round up for the total number of pages of results.\n",
    "n_pages = math.ceil((results['total']-n_results)/ results_per_page)\n",
    "n_pages"
   ]
  },
  {
   "cell_type": "code",
   "execution_count": 45,
   "id": "70734008",
   "metadata": {},
   "outputs": [
    {
     "data": {
      "application/vnd.jupyter.widget-view+json": {
       "model_id": "f0e2250e0ab6404e9f62373c278f5240",
       "version_major": 2,
       "version_minor": 0
      },
      "text/plain": [
       "  0%|          | 0/425 [00:00<?, ?it/s]"
      ]
     },
     "metadata": {},
     "output_type": "display_data"
    },
    {
     "name": "stdout",
     "output_type": "stream",
     "text": [
      "Exceeded 1000 api calls. Stopping loop.\n"
     ]
    }
   ],
   "source": [
    "for i in tqdm_notebook( range(1,n_pages+1)):\n",
    "    \n",
    "    ## Read in results in progress file and check the length\n",
    "    with open(JSON_FILE, 'r') as f:\n",
    "        previous_results = json.load(f)\n",
    "    ## save number of results for to use as offset\n",
    "    n_results = len(previous_results)\n",
    "    \n",
    "    if (n_results + results_per_page) > 1000:\n",
    "        print('Exceeded 1000 api calls. Stopping loop.')\n",
    "        break\n",
    "    \n",
    "    ## use n_results as the OFFSET \n",
    "    results = yelp_api.search_query(location=LOCATION,\n",
    "                                    term=TERM, \n",
    "                                    offset=n_results)\n",
    "    \n",
    "    \n",
    "    \n",
    "    ## append new results and save to file\n",
    "    previous_results.extend(results['businesses'])\n",
    "    \n",
    "    # display(previous_results)\n",
    "    with open(JSON_FILE,'w') as f:\n",
    "        json.dump(previous_results,f)\n",
    "    \n",
    "    time.sleep(.2)\n"
   ]
  },
  {
   "cell_type": "markdown",
   "id": "089e7ef8",
   "metadata": {},
   "source": [
    "## Create new DF from JSON file"
   ]
  },
  {
   "cell_type": "code",
   "execution_count": 46,
   "id": "a7955715",
   "metadata": {},
   "outputs": [
    {
     "data": {
      "text/html": [
       "<div>\n",
       "<style scoped>\n",
       "    .dataframe tbody tr th:only-of-type {\n",
       "        vertical-align: middle;\n",
       "    }\n",
       "\n",
       "    .dataframe tbody tr th {\n",
       "        vertical-align: top;\n",
       "    }\n",
       "\n",
       "    .dataframe thead th {\n",
       "        text-align: right;\n",
       "    }\n",
       "</style>\n",
       "<table border=\"1\" class=\"dataframe\">\n",
       "  <thead>\n",
       "    <tr style=\"text-align: right;\">\n",
       "      <th></th>\n",
       "      <th>id</th>\n",
       "      <th>alias</th>\n",
       "      <th>name</th>\n",
       "      <th>image_url</th>\n",
       "      <th>is_closed</th>\n",
       "      <th>url</th>\n",
       "      <th>review_count</th>\n",
       "      <th>categories</th>\n",
       "      <th>rating</th>\n",
       "      <th>coordinates</th>\n",
       "      <th>transactions</th>\n",
       "      <th>price</th>\n",
       "      <th>location</th>\n",
       "      <th>phone</th>\n",
       "      <th>display_phone</th>\n",
       "      <th>distance</th>\n",
       "    </tr>\n",
       "  </thead>\n",
       "  <tbody>\n",
       "    <tr>\n",
       "      <th>0</th>\n",
       "      <td>16ZnHpuaaBt92XWeJHCC5A</td>\n",
       "      <td>olio-e-più-new-york-7</td>\n",
       "      <td>Olio e Più</td>\n",
       "      <td>https://s3-media4.fl.yelpcdn.com/bphoto/CUpPgz...</td>\n",
       "      <td>False</td>\n",
       "      <td>https://www.yelp.com/biz/olio-e-pi%C3%B9-new-y...</td>\n",
       "      <td>4749</td>\n",
       "      <td>[{'alias': 'pizza', 'title': 'Pizza'}, {'alias...</td>\n",
       "      <td>4.5</td>\n",
       "      <td>{'latitude': 40.733798036104304, 'longitude': ...</td>\n",
       "      <td>[pickup, delivery]</td>\n",
       "      <td>$$</td>\n",
       "      <td>{'address1': '3 Greenwich Ave', 'address2': No...</td>\n",
       "      <td>+12122436546</td>\n",
       "      <td>(212) 243-6546</td>\n",
       "      <td>3186.380498</td>\n",
       "    </tr>\n",
       "    <tr>\n",
       "      <th>1</th>\n",
       "      <td>hdiuRS9sVZSMReZm4oV5SA</td>\n",
       "      <td>da-andrea-new-york</td>\n",
       "      <td>Da Andrea</td>\n",
       "      <td>https://s3-media1.fl.yelpcdn.com/bphoto/OciLdd...</td>\n",
       "      <td>False</td>\n",
       "      <td>https://www.yelp.com/biz/da-andrea-new-york?ad...</td>\n",
       "      <td>2028</td>\n",
       "      <td>[{'alias': 'italian', 'title': 'Italian'}, {'a...</td>\n",
       "      <td>4.5</td>\n",
       "      <td>{'latitude': 40.736218, 'longitude': -73.99597}</td>\n",
       "      <td>[pickup, delivery, restaurant_reservation]</td>\n",
       "      <td>$$</td>\n",
       "      <td>{'address1': '35 W 13th St', 'address2': '', '...</td>\n",
       "      <td>+12123671979</td>\n",
       "      <td>(212) 367-1979</td>\n",
       "      <td>3424.729337</td>\n",
       "    </tr>\n",
       "    <tr>\n",
       "      <th>2</th>\n",
       "      <td>WG639VkTjmK5dzydd1BBJA</td>\n",
       "      <td>rubirosa-new-york-2</td>\n",
       "      <td>Rubirosa</td>\n",
       "      <td>https://s3-media3.fl.yelpcdn.com/bphoto/l0Phrn...</td>\n",
       "      <td>False</td>\n",
       "      <td>https://www.yelp.com/biz/rubirosa-new-york-2?a...</td>\n",
       "      <td>3123</td>\n",
       "      <td>[{'alias': 'italian', 'title': 'Italian'}, {'a...</td>\n",
       "      <td>4.5</td>\n",
       "      <td>{'latitude': 40.722766, 'longitude': -73.996233}</td>\n",
       "      <td>[pickup]</td>\n",
       "      <td>$$</td>\n",
       "      <td>{'address1': '235 Mulberry St', 'address2': ''...</td>\n",
       "      <td>+12129650500</td>\n",
       "      <td>(212) 965-0500</td>\n",
       "      <td>1932.946770</td>\n",
       "    </tr>\n",
       "    <tr>\n",
       "      <th>3</th>\n",
       "      <td>OCTiJwvjoK81WoDwsTkFvA</td>\n",
       "      <td>paesano-of-mulberry-street-new-york</td>\n",
       "      <td>Paesano of Mulberry Street</td>\n",
       "      <td>https://s3-media2.fl.yelpcdn.com/bphoto/yN9ARC...</td>\n",
       "      <td>False</td>\n",
       "      <td>https://www.yelp.com/biz/paesano-of-mulberry-s...</td>\n",
       "      <td>1407</td>\n",
       "      <td>[{'alias': 'italian', 'title': 'Italian'}, {'a...</td>\n",
       "      <td>4.0</td>\n",
       "      <td>{'latitude': 40.718554, 'longitude': -73.997447}</td>\n",
       "      <td>[pickup, delivery, restaurant_reservation]</td>\n",
       "      <td>$$</td>\n",
       "      <td>{'address1': '136 Mulberry St', 'address2': ''...</td>\n",
       "      <td>+12129651188</td>\n",
       "      <td>(212) 965-1188</td>\n",
       "      <td>1481.706653</td>\n",
       "    </tr>\n",
       "    <tr>\n",
       "      <th>4</th>\n",
       "      <td>rp8S7scxOkVVeG7dNneMGQ</td>\n",
       "      <td>l-artusi-new-york</td>\n",
       "      <td>L'Artusi</td>\n",
       "      <td>https://s3-media2.fl.yelpcdn.com/bphoto/mf-sqE...</td>\n",
       "      <td>False</td>\n",
       "      <td>https://www.yelp.com/biz/l-artusi-new-york?adj...</td>\n",
       "      <td>2350</td>\n",
       "      <td>[{'alias': 'italian', 'title': 'Italian'}, {'a...</td>\n",
       "      <td>4.5</td>\n",
       "      <td>{'latitude': 40.73372, 'longitude': -74.00513}</td>\n",
       "      <td>[pickup, delivery]</td>\n",
       "      <td>$$$</td>\n",
       "      <td>{'address1': '228 W 10th St', 'address2': '', ...</td>\n",
       "      <td>+12122555757</td>\n",
       "      <td>(212) 255-5757</td>\n",
       "      <td>3272.999061</td>\n",
       "    </tr>\n",
       "  </tbody>\n",
       "</table>\n",
       "</div>"
      ],
      "text/plain": [
       "                       id                                alias  \\\n",
       "0  16ZnHpuaaBt92XWeJHCC5A                olio-e-più-new-york-7   \n",
       "1  hdiuRS9sVZSMReZm4oV5SA                   da-andrea-new-york   \n",
       "2  WG639VkTjmK5dzydd1BBJA                  rubirosa-new-york-2   \n",
       "3  OCTiJwvjoK81WoDwsTkFvA  paesano-of-mulberry-street-new-york   \n",
       "4  rp8S7scxOkVVeG7dNneMGQ                    l-artusi-new-york   \n",
       "\n",
       "                         name  \\\n",
       "0                  Olio e Più   \n",
       "1                   Da Andrea   \n",
       "2                    Rubirosa   \n",
       "3  Paesano of Mulberry Street   \n",
       "4                    L'Artusi   \n",
       "\n",
       "                                           image_url  is_closed  \\\n",
       "0  https://s3-media4.fl.yelpcdn.com/bphoto/CUpPgz...      False   \n",
       "1  https://s3-media1.fl.yelpcdn.com/bphoto/OciLdd...      False   \n",
       "2  https://s3-media3.fl.yelpcdn.com/bphoto/l0Phrn...      False   \n",
       "3  https://s3-media2.fl.yelpcdn.com/bphoto/yN9ARC...      False   \n",
       "4  https://s3-media2.fl.yelpcdn.com/bphoto/mf-sqE...      False   \n",
       "\n",
       "                                                 url  review_count  \\\n",
       "0  https://www.yelp.com/biz/olio-e-pi%C3%B9-new-y...          4749   \n",
       "1  https://www.yelp.com/biz/da-andrea-new-york?ad...          2028   \n",
       "2  https://www.yelp.com/biz/rubirosa-new-york-2?a...          3123   \n",
       "3  https://www.yelp.com/biz/paesano-of-mulberry-s...          1407   \n",
       "4  https://www.yelp.com/biz/l-artusi-new-york?adj...          2350   \n",
       "\n",
       "                                          categories  rating  \\\n",
       "0  [{'alias': 'pizza', 'title': 'Pizza'}, {'alias...     4.5   \n",
       "1  [{'alias': 'italian', 'title': 'Italian'}, {'a...     4.5   \n",
       "2  [{'alias': 'italian', 'title': 'Italian'}, {'a...     4.5   \n",
       "3  [{'alias': 'italian', 'title': 'Italian'}, {'a...     4.0   \n",
       "4  [{'alias': 'italian', 'title': 'Italian'}, {'a...     4.5   \n",
       "\n",
       "                                         coordinates  \\\n",
       "0  {'latitude': 40.733798036104304, 'longitude': ...   \n",
       "1    {'latitude': 40.736218, 'longitude': -73.99597}   \n",
       "2   {'latitude': 40.722766, 'longitude': -73.996233}   \n",
       "3   {'latitude': 40.718554, 'longitude': -73.997447}   \n",
       "4     {'latitude': 40.73372, 'longitude': -74.00513}   \n",
       "\n",
       "                                 transactions price  \\\n",
       "0                          [pickup, delivery]    $$   \n",
       "1  [pickup, delivery, restaurant_reservation]    $$   \n",
       "2                                    [pickup]    $$   \n",
       "3  [pickup, delivery, restaurant_reservation]    $$   \n",
       "4                          [pickup, delivery]   $$$   \n",
       "\n",
       "                                            location         phone  \\\n",
       "0  {'address1': '3 Greenwich Ave', 'address2': No...  +12122436546   \n",
       "1  {'address1': '35 W 13th St', 'address2': '', '...  +12123671979   \n",
       "2  {'address1': '235 Mulberry St', 'address2': ''...  +12129650500   \n",
       "3  {'address1': '136 Mulberry St', 'address2': ''...  +12129651188   \n",
       "4  {'address1': '228 W 10th St', 'address2': '', ...  +12122555757   \n",
       "\n",
       "    display_phone     distance  \n",
       "0  (212) 243-6546  3186.380498  \n",
       "1  (212) 367-1979  3424.729337  \n",
       "2  (212) 965-0500  1932.946770  \n",
       "3  (212) 965-1188  1481.706653  \n",
       "4  (212) 255-5757  3272.999061  "
      ]
     },
     "metadata": {},
     "output_type": "display_data"
    },
    {
     "data": {
      "text/html": [
       "<div>\n",
       "<style scoped>\n",
       "    .dataframe tbody tr th:only-of-type {\n",
       "        vertical-align: middle;\n",
       "    }\n",
       "\n",
       "    .dataframe tbody tr th {\n",
       "        vertical-align: top;\n",
       "    }\n",
       "\n",
       "    .dataframe thead th {\n",
       "        text-align: right;\n",
       "    }\n",
       "</style>\n",
       "<table border=\"1\" class=\"dataframe\">\n",
       "  <thead>\n",
       "    <tr style=\"text-align: right;\">\n",
       "      <th></th>\n",
       "      <th>id</th>\n",
       "      <th>alias</th>\n",
       "      <th>name</th>\n",
       "      <th>image_url</th>\n",
       "      <th>is_closed</th>\n",
       "      <th>url</th>\n",
       "      <th>review_count</th>\n",
       "      <th>categories</th>\n",
       "      <th>rating</th>\n",
       "      <th>coordinates</th>\n",
       "      <th>transactions</th>\n",
       "      <th>price</th>\n",
       "      <th>location</th>\n",
       "      <th>phone</th>\n",
       "      <th>display_phone</th>\n",
       "      <th>distance</th>\n",
       "    </tr>\n",
       "  </thead>\n",
       "  <tbody>\n",
       "    <tr>\n",
       "      <th>995</th>\n",
       "      <td>4_aoi1DOrrzRnyG-egxWYQ</td>\n",
       "      <td>parashades-pizza-and-cocktails-brooklyn</td>\n",
       "      <td>Parashades Pizza and Cocktails</td>\n",
       "      <td>https://s3-media3.fl.yelpcdn.com/bphoto/BV8enU...</td>\n",
       "      <td>False</td>\n",
       "      <td>https://www.yelp.com/biz/parashades-pizza-and-...</td>\n",
       "      <td>8</td>\n",
       "      <td>[{'alias': 'pizza', 'title': 'Pizza'}, {'alias...</td>\n",
       "      <td>5.0</td>\n",
       "      <td>{'latitude': 40.6810334, 'longitude': -73.9749...</td>\n",
       "      <td>[]</td>\n",
       "      <td>NaN</td>\n",
       "      <td>{'address1': '241 Flatbush Ave', 'address2': N...</td>\n",
       "      <td>+12124571168</td>\n",
       "      <td>(212) 457-1168</td>\n",
       "      <td>3166.991152</td>\n",
       "    </tr>\n",
       "    <tr>\n",
       "      <th>996</th>\n",
       "      <td>lQ8qDNaTPnewJt6xwG__gQ</td>\n",
       "      <td>leland-eating-and-drinking-house-brooklyn</td>\n",
       "      <td>Leland Eating and Drinking House</td>\n",
       "      <td>https://s3-media2.fl.yelpcdn.com/bphoto/BWtMaa...</td>\n",
       "      <td>False</td>\n",
       "      <td>https://www.yelp.com/biz/leland-eating-and-dri...</td>\n",
       "      <td>78</td>\n",
       "      <td>[{'alias': 'wine_bars', 'title': 'Wine Bars'},...</td>\n",
       "      <td>4.5</td>\n",
       "      <td>{'latitude': 40.679822105618534, 'longitude': ...</td>\n",
       "      <td>[delivery]</td>\n",
       "      <td>NaN</td>\n",
       "      <td>{'address1': '755 Dean St', 'address2': '', 'a...</td>\n",
       "      <td>+16464707008</td>\n",
       "      <td>(646) 470-7008</td>\n",
       "      <td>3763.980228</td>\n",
       "    </tr>\n",
       "    <tr>\n",
       "      <th>997</th>\n",
       "      <td>Ucg3flg-2tJAahEePIoigQ</td>\n",
       "      <td>magdalene-brooklyn</td>\n",
       "      <td>Magdalene</td>\n",
       "      <td>https://s3-media2.fl.yelpcdn.com/bphoto/9ez5kN...</td>\n",
       "      <td>False</td>\n",
       "      <td>https://www.yelp.com/biz/magdalene-brooklyn?ad...</td>\n",
       "      <td>65</td>\n",
       "      <td>[{'alias': 'lebanese', 'title': 'Lebanese'}, {...</td>\n",
       "      <td>4.0</td>\n",
       "      <td>{'latitude': 40.71252, 'longitude': -73.94899}</td>\n",
       "      <td>[pickup, delivery]</td>\n",
       "      <td>$$</td>\n",
       "      <td>{'address1': '524 Lorimer St', 'address2': '',...</td>\n",
       "      <td>+13475088280</td>\n",
       "      <td>(347) 508-8280</td>\n",
       "      <td>3902.389737</td>\n",
       "    </tr>\n",
       "    <tr>\n",
       "      <th>998</th>\n",
       "      <td>NBeQAgTo9hlJxgp9xbMO-w</td>\n",
       "      <td>tufino-pizzeria-napoletana-astoria-28</td>\n",
       "      <td>Tufino Pizzeria Napoletana</td>\n",
       "      <td>https://s3-media4.fl.yelpcdn.com/bphoto/S24th9...</td>\n",
       "      <td>False</td>\n",
       "      <td>https://www.yelp.com/biz/tufino-pizzeria-napol...</td>\n",
       "      <td>471</td>\n",
       "      <td>[{'alias': 'pizza', 'title': 'Pizza'}, {'alias...</td>\n",
       "      <td>4.0</td>\n",
       "      <td>{'latitude': 40.773986, 'longitude': -73.908126}</td>\n",
       "      <td>[pickup, delivery]</td>\n",
       "      <td>$$</td>\n",
       "      <td>{'address1': '36-08 Ditmars Blvd', 'address2':...</td>\n",
       "      <td>+17182784800</td>\n",
       "      <td>(718) 278-4800</td>\n",
       "      <td>10527.797867</td>\n",
       "    </tr>\n",
       "    <tr>\n",
       "      <th>999</th>\n",
       "      <td>vpkTNjq9dRh9rT3Nh0pe-A</td>\n",
       "      <td>nolita-pizza-new-york-2</td>\n",
       "      <td>Nolita Pizza</td>\n",
       "      <td>https://s3-media2.fl.yelpcdn.com/bphoto/_BKVVo...</td>\n",
       "      <td>False</td>\n",
       "      <td>https://www.yelp.com/biz/nolita-pizza-new-york...</td>\n",
       "      <td>210</td>\n",
       "      <td>[{'alias': 'pizza', 'title': 'Pizza'}, {'alias...</td>\n",
       "      <td>4.5</td>\n",
       "      <td>{'latitude': 40.7208883, 'longitude': -73.9962...</td>\n",
       "      <td>[pickup, delivery]</td>\n",
       "      <td>$</td>\n",
       "      <td>{'address1': '68 Kenmare St', 'address2': None...</td>\n",
       "      <td>+16468959131</td>\n",
       "      <td>(646) 895-9131</td>\n",
       "      <td>1725.054309</td>\n",
       "    </tr>\n",
       "  </tbody>\n",
       "</table>\n",
       "</div>"
      ],
      "text/plain": [
       "                         id                                      alias  \\\n",
       "995  4_aoi1DOrrzRnyG-egxWYQ    parashades-pizza-and-cocktails-brooklyn   \n",
       "996  lQ8qDNaTPnewJt6xwG__gQ  leland-eating-and-drinking-house-brooklyn   \n",
       "997  Ucg3flg-2tJAahEePIoigQ                         magdalene-brooklyn   \n",
       "998  NBeQAgTo9hlJxgp9xbMO-w      tufino-pizzeria-napoletana-astoria-28   \n",
       "999  vpkTNjq9dRh9rT3Nh0pe-A                    nolita-pizza-new-york-2   \n",
       "\n",
       "                                  name  \\\n",
       "995     Parashades Pizza and Cocktails   \n",
       "996  Leland Eating and Drinking House    \n",
       "997                          Magdalene   \n",
       "998         Tufino Pizzeria Napoletana   \n",
       "999                       Nolita Pizza   \n",
       "\n",
       "                                             image_url  is_closed  \\\n",
       "995  https://s3-media3.fl.yelpcdn.com/bphoto/BV8enU...      False   \n",
       "996  https://s3-media2.fl.yelpcdn.com/bphoto/BWtMaa...      False   \n",
       "997  https://s3-media2.fl.yelpcdn.com/bphoto/9ez5kN...      False   \n",
       "998  https://s3-media4.fl.yelpcdn.com/bphoto/S24th9...      False   \n",
       "999  https://s3-media2.fl.yelpcdn.com/bphoto/_BKVVo...      False   \n",
       "\n",
       "                                                   url  review_count  \\\n",
       "995  https://www.yelp.com/biz/parashades-pizza-and-...             8   \n",
       "996  https://www.yelp.com/biz/leland-eating-and-dri...            78   \n",
       "997  https://www.yelp.com/biz/magdalene-brooklyn?ad...            65   \n",
       "998  https://www.yelp.com/biz/tufino-pizzeria-napol...           471   \n",
       "999  https://www.yelp.com/biz/nolita-pizza-new-york...           210   \n",
       "\n",
       "                                            categories  rating  \\\n",
       "995  [{'alias': 'pizza', 'title': 'Pizza'}, {'alias...     5.0   \n",
       "996  [{'alias': 'wine_bars', 'title': 'Wine Bars'},...     4.5   \n",
       "997  [{'alias': 'lebanese', 'title': 'Lebanese'}, {...     4.0   \n",
       "998  [{'alias': 'pizza', 'title': 'Pizza'}, {'alias...     4.0   \n",
       "999  [{'alias': 'pizza', 'title': 'Pizza'}, {'alias...     4.5   \n",
       "\n",
       "                                           coordinates        transactions  \\\n",
       "995  {'latitude': 40.6810334, 'longitude': -73.9749...                  []   \n",
       "996  {'latitude': 40.679822105618534, 'longitude': ...          [delivery]   \n",
       "997     {'latitude': 40.71252, 'longitude': -73.94899}  [pickup, delivery]   \n",
       "998   {'latitude': 40.773986, 'longitude': -73.908126}  [pickup, delivery]   \n",
       "999  {'latitude': 40.7208883, 'longitude': -73.9962...  [pickup, delivery]   \n",
       "\n",
       "    price                                           location         phone  \\\n",
       "995   NaN  {'address1': '241 Flatbush Ave', 'address2': N...  +12124571168   \n",
       "996   NaN  {'address1': '755 Dean St', 'address2': '', 'a...  +16464707008   \n",
       "997    $$  {'address1': '524 Lorimer St', 'address2': '',...  +13475088280   \n",
       "998    $$  {'address1': '36-08 Ditmars Blvd', 'address2':...  +17182784800   \n",
       "999     $  {'address1': '68 Kenmare St', 'address2': None...  +16468959131   \n",
       "\n",
       "      display_phone      distance  \n",
       "995  (212) 457-1168   3166.991152  \n",
       "996  (646) 470-7008   3763.980228  \n",
       "997  (347) 508-8280   3902.389737  \n",
       "998  (718) 278-4800  10527.797867  \n",
       "999  (646) 895-9131   1725.054309  "
      ]
     },
     "metadata": {},
     "output_type": "display_data"
    }
   ],
   "source": [
    "# load final results\n",
    "final_df = pd.read_json(JSON_FILE)\n",
    "display(final_df.head(), final_df.tail())"
   ]
  },
  {
   "cell_type": "code",
   "execution_count": 47,
   "id": "5dd3f77c",
   "metadata": {},
   "outputs": [
    {
     "data": {
      "text/plain": [
       "14"
      ]
     },
     "execution_count": 47,
     "metadata": {},
     "output_type": "execute_result"
    }
   ],
   "source": [
    "# check for duplicate ID's \n",
    "final_df.duplicated(subset='id').sum()"
   ]
  },
  {
   "cell_type": "code",
   "execution_count": 50,
   "id": "277906fd",
   "metadata": {},
   "outputs": [
    {
     "data": {
      "text/plain": [
       "0"
      ]
     },
     "execution_count": 50,
     "metadata": {},
     "output_type": "execute_result"
    }
   ],
   "source": [
    "## Drop duplicate ids and confirm there are no more duplicates\n",
    "final_df = final_df.drop_duplicates(subset='id')\n",
    "final_df.duplicated(subset='id').sum()"
   ]
  },
  {
   "cell_type": "code",
   "execution_count": 53,
   "id": "2563d801",
   "metadata": {},
   "outputs": [
    {
     "name": "stdout",
     "output_type": "stream",
     "text": [
      "<class 'pandas.core.frame.DataFrame'>\n",
      "Int64Index: 986 entries, 0 to 999\n",
      "Data columns (total 16 columns):\n",
      " #   Column         Non-Null Count  Dtype  \n",
      "---  ------         --------------  -----  \n",
      " 0   id             986 non-null    object \n",
      " 1   alias          986 non-null    object \n",
      " 2   name           986 non-null    object \n",
      " 3   image_url      986 non-null    object \n",
      " 4   is_closed      986 non-null    bool   \n",
      " 5   url            986 non-null    object \n",
      " 6   review_count   986 non-null    int64  \n",
      " 7   categories     986 non-null    object \n",
      " 8   rating         986 non-null    float64\n",
      " 9   coordinates    986 non-null    object \n",
      " 10  transactions   986 non-null    object \n",
      " 11  price          793 non-null    object \n",
      " 12  location       986 non-null    object \n",
      " 13  phone          986 non-null    object \n",
      " 14  display_phone  986 non-null    object \n",
      " 15  distance       986 non-null    float64\n",
      "dtypes: bool(1), float64(2), int64(1), object(12)\n",
      "memory usage: 124.2+ KB\n"
     ]
    }
   ],
   "source": [
    "# Verify changes on final DF\n",
    "final_df.info()"
   ]
  }
 ],
 "metadata": {
  "kernelspec": {
   "display_name": "Python (dojo-env)",
   "language": "python",
   "name": "dojo-env"
  },
  "language_info": {
   "codemirror_mode": {
    "name": "ipython",
    "version": 3
   },
   "file_extension": ".py",
   "mimetype": "text/x-python",
   "name": "python",
   "nbconvert_exporter": "python",
   "pygments_lexer": "ipython3",
   "version": "3.9.15"
  },
  "toc": {
   "base_numbering": 1,
   "nav_menu": {},
   "number_sections": false,
   "sideBar": true,
   "skip_h1_title": false,
   "title_cell": "Table of Contents",
   "title_sidebar": "Contents",
   "toc_cell": false,
   "toc_position": {},
   "toc_section_display": true,
   "toc_window_display": false
  }
 },
 "nbformat": 4,
 "nbformat_minor": 5
}
